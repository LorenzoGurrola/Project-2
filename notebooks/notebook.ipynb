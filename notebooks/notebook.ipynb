{
 "cells": [
  {
   "cell_type": "code",
   "execution_count": 2,
   "metadata": {},
   "outputs": [],
   "source": [
    "import numpy as np\n",
    "import pandas as pd\n",
    "import random\n",
    "from sklearn.model_selection import train_test_split\n",
    "import torch\n",
    "import torch.nn as nn\n",
    "import os\n",
    "import matplotlib.pyplot as plt\n",
    "%matplotlib inline\n",
    "import scipy.stats as stats"
   ]
  },
  {
   "cell_type": "code",
   "execution_count": 3,
   "metadata": {},
   "outputs": [],
   "source": [
    "def load_data():\n",
    "    mean = 5\n",
    "    std_dev = 1\n",
    "    x = np.linspace(mean - 4*std_dev, mean + 4*std_dev, 100)\n",
    "    x_train, x_test = train_test_split(x, train_size=0.8)\n",
    "    y_train = (x_train>6).astype(int)\n",
    "    y_test = (x_test>6).astype(int)\n",
    "\n",
    "    x_train = np.reshape(x_train, (x_train.shape[0], 1))\n",
    "    y_train = np.reshape(y_train, (y_train.shape[0], 1))\n",
    "    x_test = np.reshape(x_test, (x_test.shape[0], 1))\n",
    "    y_test = np.reshape(y_test, (y_test.shape[0], 1))\n",
    "\n",
    "    train_data = {'x_train':x_train, 'y_train':y_train}\n",
    "    test_data = {'x_test':x_test, 'y_test':y_test}\n",
    "    return train_data, test_data"
   ]
  },
  {
   "cell_type": "code",
   "execution_count": 4,
   "metadata": {},
   "outputs": [],
   "source": [
    "def initialize_params():\n",
    "    w = np.random.rand(1,1) * 0.1\n",
    "    b = np.zeros((1,1))\n",
    "    params = {'w':w,'b':b}\n",
    "    return params"
   ]
  },
  {
   "cell_type": "code",
   "execution_count": 5,
   "metadata": {},
   "outputs": [],
   "source": [
    "def sigmoid(z):\n",
    "    a = 1/(1 + np.exp(-z))\n",
    "    return a"
   ]
  },
  {
   "cell_type": "code",
   "execution_count": 45,
   "metadata": {},
   "outputs": [],
   "source": [
    "def forward_prop(x, params):\n",
    "    w, b = params['w'], params['b']\n",
    "    z = np.matmul(x, w) + b\n",
    "    inter_vals = {'z':z}\n",
    "    yhat = sigmoid(z)\n",
    "    return yhat, inter_vals"
   ]
  },
  {
   "cell_type": "code",
   "execution_count": 46,
   "metadata": {},
   "outputs": [],
   "source": [
    "def calculate_cost(yhat, y):\n",
    "    m = y.shape[0]\n",
    "    losses = (y * np.log(yhat)) + ((1 - y) * np.log(1 - yhat))\n",
    "    cost = -np.sum(losses, axis=0, keepdims=True)/m\n",
    "    return cost"
   ]
  },
  {
   "cell_type": "code",
   "execution_count": 96,
   "metadata": {},
   "outputs": [],
   "source": [
    "def back_prop(x, yhat, y, inter_vals):\n",
    "    m = y.shape[0]\n",
    "    z = inter_vals['z']\n",
    "    dc_dyhat = (-1/m) * ((y/yhat) - ((1-y)/(1-yhat)))\n",
    "    print(f'dc_dyhat: {dc_dyhat}')\n",
    "    dyhat_dz = sigmoid(z) * (1 - sigmoid(z))\n",
    "    print(f'dyhat_dz: {dyhat_dz}')\n",
    "    dz_dc = dyhat_dz * dc_dyhat\n",
    "    print(f'dz_dc: {dz_dc}')\n",
    "    dw_dc = np.sum(dz_dc * x, axis=0, keepdims=True)\n",
    "    db_dc = np.sum(dz_dc, axis=0, keepdims=True)\n",
    "    assert dw_dc.shape == (1,1)\n",
    "    assert db_dc.shape == (1,1)\n",
    "    grads = {'db':db_dc, 'dw':dw_dc}\n",
    "    return grads"
   ]
  },
  {
   "cell_type": "code",
   "execution_count": 97,
   "metadata": {},
   "outputs": [],
   "source": [
    "train_data, test_data = load_data()"
   ]
  },
  {
   "cell_type": "code",
   "execution_count": 98,
   "metadata": {},
   "outputs": [],
   "source": [
    "x_train = train_data['x_train']\n",
    "y_train = train_data['y_train']"
   ]
  },
  {
   "cell_type": "code",
   "execution_count": 99,
   "metadata": {},
   "outputs": [],
   "source": [
    "params = initialize_params()"
   ]
  },
  {
   "cell_type": "code",
   "execution_count": 100,
   "metadata": {},
   "outputs": [],
   "source": [
    "yhat, inter_vals = forward_prop(x_train, params)"
   ]
  },
  {
   "cell_type": "code",
   "execution_count": 101,
   "metadata": {},
   "outputs": [
    {
     "data": {
      "text/plain": [
       "{'w': array([[0.09676608]]), 'b': array([[0.]])}"
      ]
     },
     "execution_count": 101,
     "metadata": {},
     "output_type": "execute_result"
    }
   ],
   "source": [
    "params"
   ]
  },
  {
   "cell_type": "code",
   "execution_count": 102,
   "metadata": {},
   "outputs": [
    {
     "data": {
      "text/plain": [
       "{'z': array([[0.44864274],\n",
       "        [0.30007259],\n",
       "        [0.5893934 ],\n",
       "        [0.87089472],\n",
       "        [0.33135052],\n",
       "        [0.65976873],\n",
       "        [0.55811547],\n",
       "        [0.44082326],\n",
       "        [0.36262844],\n",
       "        [0.26097519],\n",
       "        [0.18278037],\n",
       "        [0.4642817 ],\n",
       "        [0.51901807],\n",
       "        [0.42518429],\n",
       "        [0.55029599],\n",
       "        [0.67540769],\n",
       "        [0.37044792],\n",
       "        [0.80051939],\n",
       "        [0.80833887],\n",
       "        [0.86307524],\n",
       "        [0.13586349],\n",
       "        [0.7145051 ],\n",
       "        [0.10458556],\n",
       "        [0.30789207],\n",
       "        [0.62849081],\n",
       "        [0.61285184],\n",
       "        [0.63631029],\n",
       "        [0.17496089],\n",
       "        [0.12022452],\n",
       "        [0.29225311],\n",
       "        [0.25315571],\n",
       "        [0.15150245],\n",
       "        [0.38608689],\n",
       "        [0.73796354],\n",
       "        [0.23751674],\n",
       "        [0.73014406],\n",
       "        [0.53465703],\n",
       "        [0.8396168 ],\n",
       "        [0.81615835],\n",
       "        [0.62067132],\n",
       "        [0.40954533],\n",
       "        [0.47210118],\n",
       "        [0.41736481],\n",
       "        [0.09676608],\n",
       "        [0.43300377],\n",
       "        [0.56593496],\n",
       "        [0.19841934],\n",
       "        [0.27661415],\n",
       "        [0.48774014],\n",
       "        [0.45646222],\n",
       "        [0.60503236],\n",
       "        [0.76142199],\n",
       "        [0.50337911],\n",
       "        [0.24533622],\n",
       "        [0.26879467],\n",
       "        [0.15932193],\n",
       "        [0.65194925],\n",
       "        [0.34698948],\n",
       "        [0.40172585],\n",
       "        [0.19059986],\n",
       "        [0.54247651],\n",
       "        [0.77706095],\n",
       "        [0.76924147],\n",
       "        [0.14368297],\n",
       "        [0.58157392],\n",
       "        [0.20623882],\n",
       "        [0.31571156],\n",
       "        [0.32353104],\n",
       "        [0.33917   ],\n",
       "        [0.64412977],\n",
       "        [0.68322717],\n",
       "        [0.2140583 ],\n",
       "        [0.84743628],\n",
       "        [0.72232458],\n",
       "        [0.16714141],\n",
       "        [0.35480896],\n",
       "        [0.7536025 ],\n",
       "        [0.85525576],\n",
       "        [0.79269991],\n",
       "        [0.28443363]])}"
      ]
     },
     "execution_count": 102,
     "metadata": {},
     "output_type": "execute_result"
    }
   ],
   "source": [
    "inter_vals"
   ]
  },
  {
   "cell_type": "code",
   "execution_count": 79,
   "metadata": {},
   "outputs": [],
   "source": [
    "grads = back_prop(x_train, yhat, y_train, inter_vals)"
   ]
  },
  {
   "cell_type": "code",
   "execution_count": 82,
   "metadata": {},
   "outputs": [
    {
     "data": {
      "text/plain": [
       "0.6513548646660542"
      ]
     },
     "execution_count": 82,
     "metadata": {},
     "output_type": "execute_result"
    }
   ],
   "source": [
    "sigmoid(0.625)"
   ]
  },
  {
   "cell_type": "code",
   "execution_count": 103,
   "metadata": {},
   "outputs": [],
   "source": [
    "x = np.array([[0.5],[0.75]])\n",
    "w = np.array([[0.5]])\n",
    "b = np.array([[0.25]])\n",
    "y = np.array([[1],[0]])"
   ]
  },
  {
   "cell_type": "code",
   "execution_count": 104,
   "metadata": {},
   "outputs": [],
   "source": [
    "yhat, inter_vals = forward_prop(x, {'w':w,'b':b})"
   ]
  },
  {
   "cell_type": "code",
   "execution_count": 105,
   "metadata": {},
   "outputs": [],
   "source": [
    "cost = calculate_cost(yhat, y)"
   ]
  },
  {
   "cell_type": "code",
   "execution_count": 107,
   "metadata": {},
   "outputs": [
    {
     "data": {
      "text/plain": [
       "array([[0.76388883]])"
      ]
     },
     "execution_count": 107,
     "metadata": {},
     "output_type": "execute_result"
    }
   ],
   "source": [
    "cost"
   ]
  },
  {
   "cell_type": "code",
   "execution_count": 108,
   "metadata": {},
   "outputs": [
    {
     "name": "stdout",
     "output_type": "stream",
     "text": [
      "dc_dyhat: [[-0.80326533]\n",
      " [ 1.43412298]]\n",
      "dyhat_dz: [[0.23500371]\n",
      " [0.2270917 ]]\n",
      "dz_dc: [[-0.18877033]\n",
      " [ 0.32567743]]\n"
     ]
    }
   ],
   "source": [
    "grads = back_prop(x, yhat, y, inter_vals)"
   ]
  }
 ],
 "metadata": {
  "kernelspec": {
   "display_name": "project1env",
   "language": "python",
   "name": "python3"
  },
  "language_info": {
   "codemirror_mode": {
    "name": "ipython",
    "version": 3
   },
   "file_extension": ".py",
   "mimetype": "text/x-python",
   "name": "python",
   "nbconvert_exporter": "python",
   "pygments_lexer": "ipython3",
   "version": "3.12.3"
  }
 },
 "nbformat": 4,
 "nbformat_minor": 2
}
